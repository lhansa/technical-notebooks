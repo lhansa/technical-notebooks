{
  "cells": [
    {
      "cell_type": "markdown",
      "metadata": {},
      "source": [
        "---\n",
        "title: \"Estadísticos en regresión lineal por variable\"\n",
        "description: \"Revisión paso a paso de cómo calcular el p-valor de una variable en una regresión lineal\"\n",
        "description-meta: \"Guía paso a paso de cómo calcular el p-valor de una variable en una regresión lineal\"\n",
        "author: \"Leonardo Hansa\"\n",
        "date: \"2024-08-16\"\n",
        "categories: [datos]\n",
        "execute: \n",
        "  echo: true\n",
        "  message: false\n",
        "  warning: false\n",
        "freeze: true\n",
        "---\n",
        "\n",
        "\n",
        "## Intro y datos\n",
        "Voy a revisar aquí cómo se calcula el p-valor de una variable en una regresión lineal, porque es una cosa que siempre se me olvida. Y quiero tenerlo a mano.\n",
        "\n",
        "Además, lo voy a hacer en Python porque me gusta sufrir.\n"
      ],
      "id": "165aa9f3"
    },
    {
      "cell_type": "code",
      "metadata": {},
      "source": [
        "#| label: libs\n",
        "import numpy as np\n",
        "import statsmodels.api as sm\n",
        "import scipy.stats as stats\n",
        "import matplotlib.pyplot as plt"
      ],
      "id": "libs",
      "execution_count": null,
      "outputs": []
    },
    {
      "cell_type": "markdown",
      "metadata": {},
      "source": [
        "Me invento unos datos que me sirvan para ajustar una regresión lineal: \n",
        "\n",
        "$$\n",
        "y = \\beta_0 + \\beta_1 \\cdot x + \\epsilon,\n",
        "$$\n",
        "\n",
        "donde $\\beta_0 = - 5$, $\\beta_1 = 3$ y $x ~ \\mbox{Poisson(12)}$ y $\\epislon ~ \\cal{N}(0, 10)$.\n"
      ],
      "id": "0ad2a54b"
    },
    {
      "cell_type": "code",
      "metadata": {},
      "source": [
        "#| label: generate-data\n",
        "nobs = 10000\n",
        "x = np.random.poisson(12, nobs)\n",
        "noise = np.random.normal(0, 10, nobs)\n",
        "\n",
        "y = 3 * x - 5 + noise"
      ],
      "id": "generate-data",
      "execution_count": null,
      "outputs": []
    },
    {
      "cell_type": "markdown",
      "metadata": {},
      "source": [
        "Ahora ajusto la regresión lineal con **statsmodels**. ¿Se puede hacer con **sklearn**? Pues imagino que sí, pero necesitaré luego acceder a detalles del modelo a los que no sé acceder con sklearn.\n"
      ],
      "id": "62c5dad8"
    },
    {
      "cell_type": "code",
      "metadata": {},
      "source": [
        "#| label: fit-model\n",
        "X = sm.add_constant(x)\n",
        "model = sm.OLS(y, X).fit()\n",
        "print(model.summary())"
      ],
      "id": "fit-model",
      "execution_count": null,
      "outputs": []
    },
    {
      "cell_type": "markdown",
      "metadata": {},
      "source": [
        "Para calcular el p-valor de $x$ en el modelo necesito el estadístico $t$. Para eso necesito, aparte del valor del coeficiente, el error estándar de la variable. \n",
        "\n",
        "## Error estándar\n",
        "\n",
        "Este error estándar relaciona la varianza de la variable con la varianza de los errores: \n",
        "\n",
        "- Si una variable tiene poca varianza y los errores tienen mucha, la variable está aportando poco al modelo. \n",
        "- Si una variable tiene una varianza alta, estará contribuyendo más al modelo. \n",
        "- Si un modelo tiene errores con varianza baja, el error estándar de la variable tenderá a ser bajo.\n",
        "\n",
        "> Cuanto mayor sea el error estándar, menor siginificatividad tendrá la variable. Por lo tanto, con un varianza del error pequeña, más fácil será que la variable aparezca significativa.\n"
      ],
      "id": "340e41ec"
    },
    {
      "cell_type": "code",
      "metadata": {},
      "source": [
        "#| label: standard-error\n",
        "standard_error = np.sqrt(np.sum(model.resid ** 2) / (len(x) - 2))\n",
        "standard_error_x = standard_error / np.sqrt(nobs)  / np.std(x)"
      ],
      "id": "standard-error",
      "execution_count": null,
      "outputs": []
    },
    {
      "cell_type": "markdown",
      "metadata": {},
      "source": [
        "El error estándar de los residuos es `{python} standard_error` y el de la variable es `{python} standard_error_x`.\n",
        "\n",
        "> El error estándar del intercept es más lío de calcular e interpretar; la idea intuitiva es que tiene en cuenta la varianza de todas las variables explicativas a la vez. \n"
      ],
      "id": "0e02a106"
    },
    {
      "cell_type": "code",
      "metadata": {},
      "source": [
        "#| label: standard-error-int\n",
        "standard_error * np.sqrt(1 / nobs + np.mean(x) ** 2 / np.sum((x - np.mean(x)) ** 2))"
      ],
      "id": "standard-error-int",
      "execution_count": null,
      "outputs": []
    },
    {
      "cell_type": "markdown",
      "metadata": {},
      "source": [
        "## Estadístico $t$\n",
        "El estadístico $t$ se calcula como \n",
        "\n",
        "$$\n",
        "t = \\frac{\\mbox{coef}\\ x}{\\mbox{std error}\\ x}.\n",
        "$$ \n",
        "\n",
        "- Si la variable tiene un error pequeño, el estadístico crece (eso es bueno para la significatividad de la variable). \n",
        "- A su vez, si el coeficiente es alto (en valor absoluto), entonces también crece. \n",
        "- El estadístico decrece con coeficientes bajos o con errores altos (es decir, la variable parecerá no significativa).\n"
      ],
      "id": "f4108bdf"
    },
    {
      "cell_type": "code",
      "metadata": {},
      "source": [
        "# label: t-stat\n",
        "t_stat_x = np.abs(model.params[1]) / standard_error_x\n",
        "t_stat_x"
      ],
      "id": "219c90ce",
      "execution_count": null,
      "outputs": []
    },
    {
      "cell_type": "markdown",
      "metadata": {},
      "source": [
        "## p-valor\n",
        "Ahora hay que ver qué valor es esperable para el estadístico $t$. \n",
        "\n",
        "Pon que trabajas al nivel de confianza del 90%. Hace falta calcular el $t$ que deja el 5% a un lado de la distribución, y el que lo deja al otro lado. Como la distribución es simétrica, solo calculo uno:\n"
      ],
      "id": "88463bf9"
    },
    {
      "cell_type": "code",
      "metadata": {},
      "source": [
        "percentile = stats.t.ppf(0.95, nobs - 2)\n",
        "percentile"
      ],
      "id": "d2e4c5fe",
      "execution_count": null,
      "outputs": []
    },
    {
      "cell_type": "markdown",
      "metadata": {},
      "source": [
        "Ahora tienes la distribución de $t$. Si $t$ cae en el área sombreada (el 10% extremo) entonces la probabilidad de observar tus datos en el supuesto de que la variable no sea significativa ($H_0$ o $\\beta_1 = 0$) es menor de 0,10.\n"
      ],
      "id": "c505452c"
    },
    {
      "cell_type": "code",
      "metadata": {},
      "source": [
        "#| label: t-distribution\n",
        "xx = np.linspace(-4, 4, 1000)\n",
        "yy = stats.t.pdf(xx, nobs - 2)\n",
        "plt.plot(xx, yy, color='#800080')\n",
        "# plot the t distribution and fill the 5% outside \n",
        "plt.fill_between(xx, yy, where=(xx < -percentile) | (xx > percentile), alpha=0.5, color='#800080')\n",
        "plt.title(f\"Distribución de t con {nobs - 2} grados de libertad\")\n",
        "plt.show()"
      ],
      "id": "t-distribution",
      "execution_count": null,
      "outputs": []
    },
    {
      "cell_type": "markdown",
      "metadata": {},
      "source": [
        "Concretamente, la probabilidad para el estadístico $t$ que has obtenido es muy muy baja.\n"
      ],
      "id": "adb3b83e"
    },
    {
      "cell_type": "code",
      "metadata": {},
      "source": [
        "# p value for coefficient, extracted from\n",
        "# t distribution\n",
        "stats.t.sf(t_stat_x, nobs - 2) * 2"
      ],
      "id": "f0741595",
      "execution_count": null,
      "outputs": []
    }
  ],
  "metadata": {
    "kernelspec": {
      "name": "python3",
      "language": "python",
      "display_name": "Python 3 (ipykernel)",
      "path": "c:\\Users\\Leonardo.Hansa\\Documents\\comala\\lhansa.github.io\\.venv\\share\\jupyter\\kernels\\python3"
    }
  },
  "nbformat": 4,
  "nbformat_minor": 5
}