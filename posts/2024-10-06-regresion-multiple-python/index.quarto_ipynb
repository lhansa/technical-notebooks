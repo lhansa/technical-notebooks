{
  "cells": [
    {
      "cell_type": "markdown",
      "metadata": {},
      "source": [
        "---\n",
        "title: \"Ejemplo de regresión múltiple con Python\"\n",
        "description: \"Pequeña práctica de regresión múltiple con Python, siguiendo ISLP\"\n",
        "description-meta: \"Pequeña práctica de regresión múltiple con Python, siguiendo ISLP\"\n",
        "author: \"Leonardo Hansa\"\n",
        "date: \"2024-10-06\"\n",
        "categories: [exploraciones]\n",
        "execute: \n",
        "  echo: true\n",
        "  message: false\n",
        "  warning: false\n",
        "freeze: true\n",
        "---\n",
        "\n",
        "\n",
        "Aquí sigo un ejercicio de regresión lineal con Python del libro _Introduction to Statistical Learning with Python._\n",
        "\n",
        "## Regresión simple\n",
        "\n",
        "### Código del ajuste del modelo\n"
      ],
      "id": "cf70009d"
    },
    {
      "cell_type": "code",
      "metadata": {},
      "source": [
        "#| label: libs\n",
        "import numpy as np\n",
        "import pandas as pd\n",
        "import matplotlib.pyplot as plt\n",
        "from matplotlib.pyplot import subplots\n",
        "\n",
        "import statsmodels.api as sm\n",
        "\n",
        "from statsmodels.stats.outliers_influence import variance_inflation_factor as VIF\n",
        "from statsmodels.stats.anova import anova_lm\n",
        "\n",
        "from ISLP import load_data\n",
        "from ISLP.models import (ModelSpec as MS, summarize, poly)"
      ],
      "id": "libs",
      "execution_count": null,
      "outputs": []
    },
    {
      "cell_type": "code",
      "metadata": {},
      "source": [
        "#| label: load-data\n",
        "boston = load_data('Boston')\n",
        "boston.head()"
      ],
      "id": "load-data",
      "execution_count": null,
      "outputs": []
    },
    {
      "cell_type": "markdown",
      "metadata": {},
      "source": [
        "Estos datos son un clásico, que incluso han tenido ya _haters_ por no sé qué variable que hace al conjunto racista. Pero yo voy a seguir con el ejemplo de ISLP porque no me quiero complicar ahora. \n",
        "\n",
        "El libro ajusta una regresión lineal de `'medv'` frente a `'lstat'`. Por supuesto, ni idea de qué es cada una. Pero solo quier practicar código Python; el resultado nos da igual. \n"
      ],
      "id": "765b9300"
    },
    {
      "cell_type": "code",
      "metadata": {},
      "source": [
        "#| label: datos\n",
        "X = pd.DataFrame({'intercept': np.ones(boston.shape[0]),\n",
        "                  'lstat': boston['lstat']})\n",
        "\n",
        "X.head()                  "
      ],
      "id": "datos",
      "execution_count": null,
      "outputs": []
    },
    {
      "cell_type": "markdown",
      "metadata": {},
      "source": [
        "En **statsmodels** el _intercept_ no se incluye por defecto y es el usuario quien tiene que incluirlo.\n"
      ],
      "id": "f3321f93"
    },
    {
      "cell_type": "code",
      "metadata": {},
      "source": [
        "#| label: ols1\n",
        "y = boston['medv']\n",
        "model = sm.OLS(y, X)\n",
        "results = model.fit()\n",
        "results.summary()"
      ],
      "id": "ols1",
      "execution_count": null,
      "outputs": []
    },
    {
      "cell_type": "markdown",
      "metadata": {},
      "source": [
        "Una forma más generalizable de preparar los datos es con la función `MS()`, que funciona al estilo `sklearn`. Pero es algo propio del libro así que no sé si le haré mucho caso.\n"
      ],
      "id": "c7d14bc8"
    },
    {
      "cell_type": "code",
      "metadata": {},
      "source": [
        "#| label: fit-tranform\n",
        "design = MS(['lstat'])\n",
        "design = design.fit(boston)\n",
        "X = design.transform(boston)\n",
        "X.head()"
      ],
      "id": "fit-tranform",
      "execution_count": null,
      "outputs": []
    },
    {
      "cell_type": "markdown",
      "metadata": {},
      "source": [
        "También se puede acortar con `fit_transform()`.\n",
        "\n",
        "A partir del modelo, guardado en `results`, y un conjunto de datos, puedes obtener predicciones.\n"
      ],
      "id": "fa04e520"
    },
    {
      "cell_type": "code",
      "metadata": {},
      "source": [
        "new_df = pd.DataFrame({'lstat': [5, 10, 15]})\n",
        "newX = design.transform(new_df)\n",
        "newX"
      ],
      "id": "7215b75d",
      "execution_count": null,
      "outputs": []
    },
    {
      "cell_type": "markdown",
      "metadata": {},
      "source": [
        "Y ahora predices:\n"
      ],
      "id": "07349eee"
    },
    {
      "cell_type": "code",
      "metadata": {},
      "source": [
        "#| label: predicciones\n",
        "new_predictions = results.get_prediction(newX)\n",
        "new_predictions.conf_int(alpha=0.95)"
      ],
      "id": "predicciones",
      "execution_count": null,
      "outputs": []
    },
    {
      "cell_type": "markdown",
      "metadata": {},
      "source": [
        "### Gráfico\n",
        "\n",
        "El primer gráfico muestra la regresión calculada.\n"
      ],
      "id": "99cf8164"
    },
    {
      "cell_type": "code",
      "metadata": {},
      "source": [
        "#| label: plot-regression\n",
        "def abline(ax, b, m, *args, **kwargs):\n",
        "    \"Add a line with slope m and intercept b to ax\"\n",
        "    xlim = ax.get_xlim()\n",
        "    ylim = [m * xlim[0] + b, m * xlim[1] + b]\n",
        "    ax.plot(xlim, ylim, *args, **kwargs)\n",
        "\n",
        "ax = boston.plot.scatter('lstat', 'medv')\n",
        "abline(ax, \n",
        "       results.params[0],\n",
        "       results.params[1], \n",
        "       'r--', \n",
        "       linewidth=3)"
      ],
      "id": "plot-regression",
      "execution_count": null,
      "outputs": []
    },
    {
      "cell_type": "markdown",
      "metadata": {},
      "source": [
        "El segundo gráfico compara los residuos frente a los valores ajustados. \n",
        "\n",
        "Parece que los valores ajustados más pequeños están asociados a residuos negativos y altos.\n",
        "En valores más altos de ajuste, hay residuos tanto positivos como negativos, pero se concentran muchos más en casos negativos.\n"
      ],
      "id": "31d446d0"
    },
    {
      "cell_type": "code",
      "metadata": {},
      "source": [
        "#| label: residuals\n",
        "ax = subplots(figsize=(8,8))[1]\n",
        "ax.scatter(results.fittedvalues, results.resid)\n",
        "ax.set_xlabel('Fitted value')\n",
        "ax.set_ylabel('Residual')\n",
        "ax.axhline(0, c='k', ls= '--')"
      ],
      "id": "residuals",
      "execution_count": null,
      "outputs": []
    },
    {
      "cell_type": "markdown",
      "metadata": {},
      "source": [
        "El _leverage_ es una métrica que indica cuánto se aleja un punto del centroide de toda la nube de puntos. Puntos muy alejados tendrán una mayor influencia en el cálculo del coeficiente que puntos cercanos. \n",
        "\n",
        "El gráfico muestra el _leverage_ contra el índice del punto, lo que ayuda a identificar puntos más influyentes (en el caso de una serie temporal, se podría ver como una evolución).\n"
      ],
      "id": "f5a3b708"
    },
    {
      "cell_type": "code",
      "metadata": {},
      "source": [
        "#| label: plot-levarage\n",
        "infl = results.get_influence()\n",
        "ax = subplots(figsize=(8,8))[1]\n",
        "ax.scatter(np.arange(X.shape[0]), infl.hat_matrix_diag)\n",
        "ax.set_xlabel('Index')\n",
        "ax.set_ylabel('Leverage')\n",
        "np.argmax(infl.hat_matrix_diag)"
      ],
      "id": "plot-levarage",
      "execution_count": null,
      "outputs": []
    },
    {
      "cell_type": "markdown",
      "metadata": {},
      "source": [
        "## Regresión múltiple\n",
        "\n",
        "Ahora enfrentan `'medv'` a `'lstat'` y `'age'`.\n"
      ],
      "id": "76181849"
    },
    {
      "cell_type": "code",
      "metadata": {},
      "source": [
        "#| label: multiple\n",
        "X = MS(['lstat', 'age']).fit_transform(boston)\n",
        "model1 = sm.OLS(y, X)\n",
        "results1 = model1.fit()\n",
        "results1.summary()"
      ],
      "id": "multiple",
      "execution_count": null,
      "outputs": []
    },
    {
      "cell_type": "markdown",
      "metadata": {},
      "source": [
        "El objeto `results1` es el que contiene información que ahora quiero explorar para validar si el modelo tiene algún sentido. \n",
        "\n",
        "\n",
        "### Una nota\n",
        "\n",
        "A mí esto de la programación orientada a objetos, en el que un objeto tiene lo que se supone que necesitas de él, me resulta muy poco intuitivo, porque no estoy acostumbrado a trabajar y estudiar clases. \n",
        "\n",
        "No digo que a lo que yo estoy acostumbrado, que es a mirarme funciones a ver qué puedo hacer con ellas, sea mejor. Solo digo que cambiar de una forma a otra requiere un esfuerzo, y cualquiera que se dedique a enseñar estas cosas debería tenerlo en cuenta si sus alumnos vienen ya de una metodología, y van a cambiar a la otra. \n",
        "\n",
        "No conocía la función `dir()`, con la que puedes acceder a lo que hay disponible en el objeto. \n"
      ],
      "id": "66b1dd2b"
    },
    {
      "cell_type": "code",
      "metadata": {},
      "source": [
        "#| label: funcion-dir\n",
        "[caso for caso in dir(results1) if not(caso.startswith('_'))]"
      ],
      "id": "funcion-dir",
      "execution_count": null,
      "outputs": []
    },
    {
      "cell_type": "markdown",
      "metadata": {},
      "source": [
        "### Más regresión\n",
        "\n",
        "Ahora cuentan una cosa interesante, y para eso ajustan un modelo con muchas más variables (todas menos la edad).\n"
      ],
      "id": "13e3840f"
    },
    {
      "cell_type": "code",
      "metadata": {},
      "source": [
        "#| label: more-regression\n",
        "columnas_no_edad = boston.columns.drop(['medv', 'age'])\n",
        "X_no_edad = MS(columnas_no_edad).fit_transform(boston)\n",
        "model2 = sm.OLS(y, X_no_edad)\n",
        "print(model2.fit().summary())"
      ],
      "id": "more-regression",
      "execution_count": null,
      "outputs": []
    },
    {
      "cell_type": "markdown",
      "metadata": {},
      "source": [
        "## Bondad de ajuste\n",
        "\n",
        "### Multicolinearidad\n",
        "\n",
        "Voy a hacer un paréntesis; necesito entrar en detalle con la multicolinearidad. Es el fenómeno que ocurre cuando tienes varias variables explicativas que tienen una correlación alta entre ellas. \n",
        "\n",
        "La **multicolinearidad** puede destruirte tu modelo. \n",
        "\n",
        "Voy a simular unos datos y a ajustar un modelo con ellos. Como los simulo yo, sé lo que debería salir en el modelo.\n"
      ],
      "id": "d10ed8b7"
    },
    {
      "cell_type": "code",
      "metadata": {},
      "source": [
        "#| label: dummy-data-1\n",
        "# la multicolinealidad afecta especialmente en muestras pequeñas\n",
        "n_size = 100 \n",
        "a1 = np.random.normal(20, 4, n_size)\n",
        "b1 = np.random.uniform(-50, -30, n_size)\n",
        "y_ab = 200 + 0.5 * a1 + (-0.3) * b1 + np.random.normal(0, 1, n_size)"
      ],
      "id": "dummy-data-1",
      "execution_count": null,
      "outputs": []
    },
    {
      "cell_type": "markdown",
      "metadata": {},
      "source": [
        "Las variables de las que depende `y_ab` no tienen nada que ver la una con la otra.\n"
      ],
      "id": "5e510f9d"
    },
    {
      "cell_type": "code",
      "metadata": {},
      "source": [
        "#| label: plot-dummy-data-ab\n",
        "plt.scatter(a1, b1, c='#800080')\n",
        "plt.xlabel('Variable a1')\n",
        "plt.ylabel('Variable b1')\n",
        "plt.title('Dos variables que no tienen nada que ver')\n",
        "plt.show()"
      ],
      "id": "plot-dummy-data-ab",
      "execution_count": null,
      "outputs": []
    },
    {
      "cell_type": "markdown",
      "metadata": {},
      "source": [
        "Cuando hago ajusto un modelo de regresión lineal todo tiene buena pinta.\n"
      ],
      "id": "5dc80381"
    },
    {
      "cell_type": "code",
      "metadata": {},
      "source": [
        "#| label: modelo1\n",
        "X_ab = pd.DataFrame({\n",
        "  'intercept': np.ones(n_size), \n",
        "  'a1': a1, \n",
        "  'b1': b1\n",
        "})\n",
        "fit_ab = sm.OLS(y_ab, X_ab).fit()\n",
        "print(fit_ab.summary())"
      ],
      "id": "modelo1",
      "execution_count": null,
      "outputs": []
    },
    {
      "cell_type": "markdown",
      "metadata": {},
      "source": [
        "Vamos a plantearlo ahora con otra variable que me invento. \n"
      ],
      "id": "17974409"
    },
    {
      "cell_type": "code",
      "metadata": {},
      "source": [
        "#| label: more-dummy-data\n",
        "a2 = 5 * a1 + np.random.normal(0, 5, n_size)\n",
        "y_a = 200 + 0.5 * a1 + (-0.3) * a2 + np.random.normal(0, 1, n_size)\n",
        "\n",
        "plt.scatter(a1, a2, c='#800080')\n",
        "plt.xlabel('a1')\n",
        "plt.ylabel('a2')\n",
        "plt.title('Dos variables con mucho en común')\n",
        "plt.show()"
      ],
      "id": "more-dummy-data",
      "execution_count": null,
      "outputs": []
    },
    {
      "cell_type": "markdown",
      "metadata": {},
      "source": [
        "Ahora la nueva variable dependiente depende de 2 variables que a su vez tienen una relación entre ellas. \n",
        "\n",
        "Veamos la regresión. \n"
      ],
      "id": "db03fa37"
    },
    {
      "cell_type": "code",
      "metadata": {},
      "source": [
        "X_a = pd.DataFrame({\n",
        "  'intercept': np.ones(n_size), \n",
        "  'a1': a1, \n",
        "  'a2': a2\n",
        "})\n",
        "fit_a = sm.OLS(y_a, X_a).fit()\n",
        "print(fit_a.summary())"
      ],
      "id": "66d059c9",
      "execution_count": null,
      "outputs": []
    },
    {
      "cell_type": "code",
      "metadata": {},
      "source": [
        "dir(fit_a)"
      ],
      "id": "f3466897",
      "execution_count": null,
      "outputs": []
    },
    {
      "cell_type": "code",
      "metadata": {},
      "source": [
        "fit_a.bse"
      ],
      "id": "7fb9139e",
      "execution_count": null,
      "outputs": []
    },
    {
      "cell_type": "markdown",
      "metadata": {},
      "source": [
        "### Variance Inflation Factor\n",
        "\n",
        "La colinearidad puede ocurrir incluso cuando la correlación entre las variables involucradas no sea alta; a eso es a lo que los autores llaman **multicolinearidad.** \n",
        "\n",
        "Calcular la matriz de correlaciones, por ello, puede no ser suficiente. Pero yo la voy a calcular de todos modos.\n"
      ],
      "id": "1fdc2e8d"
    },
    {
      "cell_type": "code",
      "metadata": {},
      "source": [
        "#| label: correlaciones\n",
        "X_no_edad.drop(columns='intercept').corr()"
      ],
      "id": "correlaciones",
      "execution_count": null,
      "outputs": []
    },
    {
      "cell_type": "markdown",
      "metadata": {},
      "source": [
        "Ahora bien, parece mejor calcular el _variance inflator ratio_ (VIF). \n"
      ],
      "id": "43bddf5e"
    },
    {
      "cell_type": "code",
      "metadata": {},
      "source": [
        "#| label: vif\n",
        "l_vifs = [VIF(X_no_edad, i) for i in range(1, X_no_edad.shape[1])]\n",
        "df_vif = pd.DataFrame({'vif': l_vifs}, index=X_no_edad.columns[1:])\n",
        "df_vif"
      ],
      "id": "vif",
      "execution_count": null,
      "outputs": []
    },
    {
      "cell_type": "markdown",
      "metadata": {},
      "source": [
        "Esto siguiente no funciona. No entiendo por qué dada la explicación del libro.\n"
      ],
      "id": "0835546e"
    },
    {
      "cell_type": "code",
      "metadata": {},
      "source": [
        "#| label: mi-VIF\n",
        "def compute_my_vif1(col_name):\n",
        "  with_columns = boston.columns.drop(['medv', 'age'])\n",
        "  X_with = MS(with_columns).fit_transform(boston)\n",
        "  model_with = sm.OLS(y, X_with).fit()\n",
        "\n",
        "  # without_columns = boston.columns.drop(['medv', 'age', col])\n",
        "  # X_without = MS(without_columns).fit_transform(boston)\n",
        "  # model_without = sm.OLS(y, X_without)\n",
        "\n",
        "  X_without = MS([col_name]).fit_transform(boston)\n",
        "  model_without = sm.OLS(y, X_without).fit()\n",
        "\n",
        "  return model_with.bse[col_name] / model_without.bse[col_name]\n",
        "\n",
        "compute_my_vif1('indus')"
      ],
      "id": "mi-VIF",
      "execution_count": null,
      "outputs": []
    },
    {
      "cell_type": "code",
      "metadata": {},
      "source": [
        "df_vif.loc['indus', :]"
      ],
      "id": "d095357f",
      "execution_count": null,
      "outputs": []
    },
    {
      "cell_type": "code",
      "metadata": {},
      "source": [
        "boston.columns"
      ],
      "id": "f68be625",
      "execution_count": null,
      "outputs": []
    }
  ],
  "metadata": {
    "kernelspec": {
      "name": "python3",
      "language": "python",
      "display_name": "Python 3 (ipykernel)",
      "path": "C:\\Users\\Leonardo.Hansa\\AppData\\Roaming\\Python\\share\\jupyter\\kernels\\python3"
    }
  },
  "nbformat": 4,
  "nbformat_minor": 5
}