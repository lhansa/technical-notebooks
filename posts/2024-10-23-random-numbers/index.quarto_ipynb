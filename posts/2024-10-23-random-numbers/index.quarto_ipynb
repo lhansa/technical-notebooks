{
  "cells": [
    {
      "cell_type": "markdown",
      "metadata": {},
      "source": [
        "---\n",
        "title: \"Juego probabilístico con números aleatorios\"\n",
        "description: \"Práctica de pensamiento probabilístico con ejemplos de generación de números aleatorios con Python\"\n",
        "description-meta: \"Práctica de pensamiento probabilístico con ejemplos de generación de números aleatorios con Python\"\n",
        "author: \"Leonardo Hansa\"\n",
        "date: \"2024-10-23\"\n",
        "categories: [exploraciones]\n",
        "execute: \n",
        "  echo: true\n",
        "  message: false\n",
        "  warning: false\n",
        "freeze: true\n",
        "---\n",
        "\n",
        "\n",
        "Para trabajar con números aleatorios en Python parece que la referencia es usar **numpy**."
      ],
      "id": "b4a080e1"
    },
    {
      "cell_type": "code",
      "metadata": {},
      "source": [
        "#| label: librerias\n",
        "import numpy as np\n",
        "import matplotlib.pyplot as plt"
      ],
      "id": "librerias",
      "execution_count": null,
      "outputs": []
    },
    {
      "cell_type": "markdown",
      "metadata": {},
      "source": [
        "## numpy básico\n",
        "\n",
        "Vamos a simular muchos lanzamientos de 4 monedas y vamos a ver en qué proporción ocurre que las cuatro monedas muestran cara. O sea, lanzo 4 monedas y apunto si todas han salido cara; las lanzo otra vez y vuelvo a apuntar; las lanzo otra vez y vuelvo a apuntar; y así 10.000 veces.\n"
      ],
      "id": "21e1b674"
    },
    {
      "cell_type": "code",
      "metadata": {},
      "source": [
        "#| label: generacion-lanzamientos-monedas\n",
        "total_runs = 10000\n",
        "n_all_heads = 0\n",
        "\n",
        "for _ in range(total_runs):\n",
        "    heads = np.random.random(size=4)\n",
        "    # Si <0.5, cara; si no, cruz\n",
        "    heads = heads < 0.5\n",
        "    n_heads = heads.sum()\n",
        "    if n_heads == 4:\n",
        "        n_all_heads += 1\n",
        "\n",
        "n_all_heads / total_runs"
      ],
      "id": "generacion-lanzamientos-monedas",
      "execution_count": null,
      "outputs": []
    },
    {
      "cell_type": "markdown",
      "metadata": {},
      "source": [
        "## Algo de visualización\n",
        "\n",
        "En una moneda la probabilidad de obtener cara es 0.5, pero puedes tener una moneda trucada con una probabilidad diferente (¿puedes?).\n",
        "\n",
        "Vamos a ver cómo se distribuye el obtener cara en distintos casos. El ejemplo ahora consiste en lanzar una moneda 100 veces, y en esas 100 veces veo cuántas caras he obtenido. Así veré cómo de esperable es obtener muy pocas caras o muchas caras, en función de cuán trucada esté la moneda.\n"
      ],
      "id": "8177e38a"
    },
    {
      "cell_type": "code",
      "metadata": {},
      "source": [
        "#| label: function-lanzamientos\n",
        "def visualizacion_experimentos(probabilidad, lanzamientos, total_experimentos):\n",
        "    caras_obtenidas = np.empty(total_experimentos)\n",
        "\n",
        "    for i in range(total_experimentos):\n",
        "        caras_obtenidas[i] = np.sum(np.random.random(lanzamientos) < probabilidad)\n",
        "    \n",
        "    plt.hist(caras_obtenidas)\n",
        "    plt.xlabel('Caras obtenidas')\n",
        "    plt.ylabel('Conteo')\n",
        "    plt.title(f'Lanzamientos por experimento: {lanzamientos}. Probabilidad: {probabilidad}')\n",
        "    plt.show()"
      ],
      "id": "function-lanzamientos",
      "execution_count": null,
      "outputs": []
    },
    {
      "cell_type": "markdown",
      "metadata": {},
      "source": [
        "En `caras_obtenidas` tenemos guardado el número de caras que hemos obtenido en cada experimento (cada uno consiste en 100 lanzamientos de una moneda cuya probabilidad de cara es 0.5).\n"
      ],
      "id": "54416faa"
    },
    {
      "cell_type": "code",
      "metadata": {},
      "source": [
        "#| label: experimento0.5\n",
        "visualizacion_experimentos(0.5, 100, 10000)"
      ],
      "id": "experimento05",
      "execution_count": null,
      "outputs": []
    },
    {
      "cell_type": "markdown",
      "metadata": {},
      "source": [
        "Lo que más peso tiene está en torno a 50 caras (frente a 100 totales). Es raro bajar de 40 o superar 60. Y parece imposible bajar de 30 o superar 70. \n",
        "\n",
        "Vamos a cambiar la probabilidad:\n"
      ],
      "id": "fb82d284"
    },
    {
      "cell_type": "code",
      "metadata": {},
      "source": [
        "#| label: experimento0.1\n",
        "visualizacion_experimentos(0.1, 100, 10000)"
      ],
      "id": "experimento01",
      "execution_count": null,
      "outputs": []
    }
  ],
  "metadata": {
    "kernelspec": {
      "name": "python3",
      "language": "python",
      "display_name": "Python 3 (ipykernel)",
      "path": "C:\\Users\\Leonardo.Hansa\\AppData\\Roaming\\Python\\share\\jupyter\\kernels\\python3"
    }
  },
  "nbformat": 4,
  "nbformat_minor": 5
}