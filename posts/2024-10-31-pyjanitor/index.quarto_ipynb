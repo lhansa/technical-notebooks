{
  "cells": [
    {
      "cell_type": "markdown",
      "metadata": {},
      "source": [
        "---\n",
        "title: \"Quita caracteres raros en tus variables (2)\"\n",
        "description: \"Pequeña práctica para limpiar los textos de las variables de tus tablas con Python\"\n",
        "description-meta: \"Pequeña práctica para limpiar los textos de las variables de tus tablas con Python\"\n",
        "author: \"Leonardo Hansa\"\n",
        "date: \"2024-10-31\"\n",
        "categories: [exploraciones]\n",
        "execute: \n",
        "  echo: true\n",
        "  message: false\n",
        "  warning: false\n",
        "freeze: true\n",
        "---\n",
        "\n",
        "\n",
        "El otro día [te compartí ideas](https://lhansa.github.io/posts/2024-10-18-quita-caracteres-raros-en-tus-variables/) de cómo adaptar valores de texto que no te sirven como nombres de columnas. En R. \n",
        "\n",
        "[José Luis Cañadas](https://muestrear-no-es-pecado.netlify.app/) me habló de la librería **pyjanitor** como alternativa en Python. Me sonaba lejanamente pero nunca la había usado. \n",
        "\n",
        "Aporta muchas más cosas aparte de cambiar textos para que cumplan con ciertas reglas de estilo. En cierto modo te da toda una nueva sintaxis para hacer las operaciones que haces con pandas de una forma más parecida al **tidyverse**. \n",
        "\n",
        "Ahora mismo no es lo busco. Lo que busco es replicar el ejercicio del otro día. \n",
        "\n",
        "Así que vamos a ello. \n",
        "\n",
        "## `pyjanitor`\n"
      ],
      "id": "5f3e90d3"
    },
    {
      "cell_type": "code",
      "metadata": {},
      "source": [
        "#| label: libs\n",
        "import pandas as pd\n",
        "import janitor"
      ],
      "id": "libs",
      "execution_count": null,
      "outputs": []
    },
    {
      "cell_type": "markdown",
      "metadata": {},
      "source": [
        "Teníamos un listado de nombres que en un proyecto real vendrían como valores de la columna de un data frame. Y están repetidos.\n"
      ],
      "id": "6ecce856"
    },
    {
      "cell_type": "code",
      "metadata": {},
      "source": [
        "nombres = [\"Campaña veintitrés\", \"C'est très petite\", \"Alışveriş Arabası Önü Giydirme\"]\n",
        "nombres = nombres * 2\n",
        "nombres"
      ],
      "id": "7c6421dc",
      "execution_count": null,
      "outputs": []
    },
    {
      "cell_type": "markdown",
      "metadata": {},
      "source": [
        "Queremos reescribirlos para que sigan un estilo válido como nombres de columnas. Este estilo es opinable, pero para ir al grano asumiré que  lo que quiero es esto: \n",
        "\n",
        "- _snake case_, es decir, todo en minúscula con palabras separadas por barras bajas. \n",
        "- Sin tildes, ni eñes ni otros caracteres raros (donde raro es no anglosajón). \n",
        "- ... Y más cosas que ahora me dan igual. \n",
        "\n",
        "La librería janitor está pensada para trabajar directamente con un data frame. Pero no es lo que busco ahora. Es más: la funcionalidad de limpiar valores de una columna (no nombres) ni siquiera está a mano. \n",
        "\n",
        "## La función escondida\n",
        "\n",
        "He [curioseado el código fuente](https://github.com/pyjanitor-devs/pyjanitor/blob/dev/janitor/functions/clean_names.py) y he encontrado la función que limpia los nombres de las columnas, es decir, el código que aplica las reglas de limpieza. \n",
        "\n",
        "Este código está un poco escondido, pero lo puedes llamar directamenmte sobre una serie de pandas (es decir, lo que podría llegar a ser una columna de un data frame).\n",
        "\n",
        "La función es `_clean_names` y su primer argumento es la serie que quieres editar. Ninguno de los argumentos de configuración tiene valor por defecto, así que hay que especificarlos todos. \n"
      ],
      "id": "2e5f9246"
    },
    {
      "cell_type": "code",
      "metadata": {},
      "source": [
        "from janitor.functions.clean_names import _clean_names\n",
        "\n",
        "nombres = pd.Series(nombres)\n",
        "nuevos_nombres = _clean_names(\n",
        "    nombres,\n",
        "    strip_underscores=True, \n",
        "    case_type='snake', \n",
        "    remove_special=True, \n",
        "    strip_accents=True, \n",
        "    enforce_string=True, \n",
        "    truncate_limit=False)\n",
        "\n",
        "nuevos_nombres"
      ],
      "id": "2cf900ce",
      "execution_count": null,
      "outputs": []
    },
    {
      "cell_type": "markdown",
      "metadata": {},
      "source": [
        "No queda igual que en el caso de R (por ejemplo, las eñes las quita pero no las convierte a enes) pero para lo que quiero hacer aquí me vale.\n",
        "\n",
        "Gracias, José Luis, como siempre, que incluso con Python me ayudas."
      ],
      "id": "606b71e5"
    }
  ],
  "metadata": {
    "kernelspec": {
      "name": "python3",
      "language": "python",
      "display_name": "Python 3 (ipykernel)",
      "path": "C:\\Users\\Leonardo.Hansa\\AppData\\Roaming\\Python\\share\\jupyter\\kernels\\python3"
    }
  },
  "nbformat": 4,
  "nbformat_minor": 5
}