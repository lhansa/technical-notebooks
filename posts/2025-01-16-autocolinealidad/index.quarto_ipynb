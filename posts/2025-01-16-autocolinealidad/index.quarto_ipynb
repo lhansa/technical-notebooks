{
  "cells": [
    {
      "cell_type": "markdown",
      "metadata": {},
      "source": [
        "---\n",
        "title: \"Experimento con multicolinealidad\"\n",
        "description: \"Experimentos con multicolinealidad para ver si siempre es tan mala como se dice en la regresión lineal\"\n",
        "description-meta: \"Experimentos con multicolinealidad para ver si siempre es tan mala como se dice en la regresión lineal\"\n",
        "author: \"Leonardo Hansa\"\n",
        "date: \"2025-01-16\"\n",
        "categories: [datos]\n",
        "execute: \n",
        "  echo: true\n",
        "  message: false\n",
        "  warning: false\n",
        "freeze: true\n",
        "---"
      ],
      "id": "f20539da"
    },
    {
      "cell_type": "code",
      "metadata": {},
      "source": [
        "#| label: libs\n",
        "import numpy as np\n",
        "import statsmodels.api as sm\n",
        "from statsmodels.regression.linear_model import OLS"
      ],
      "id": "libs",
      "execution_count": null,
      "outputs": []
    },
    {
      "cell_type": "markdown",
      "metadata": {},
      "source": [
        "## Multicolinealidad en la regresión lineal con muestras grandes\n",
        "\n",
        "Tienes una variable $y$ que depende de dos variables $x_1$ y $x_2$. Pero $x_2$ es una combinación lineal de $x_1$. \n"
      ],
      "id": "763fb3f6"
    },
    {
      "cell_type": "code",
      "metadata": {},
      "source": [
        "#| label: datos\n",
        "\n",
        "np.random.seed(123)\n",
        "\n",
        "n = 10000\n",
        "x1 = np.random.normal(50, 10, n)\n",
        "x2 = 0.5 * x1 + np.random.normal(0, 5, n)\n",
        "y = 2 + 3 * x1 + 4 * x2 + np.random.normal(0, 10, n)"
      ],
      "id": "datos",
      "execution_count": null,
      "outputs": []
    },
    {
      "cell_type": "markdown",
      "metadata": {},
      "source": [
        "Por si hay alguna duda:\n"
      ],
      "id": "72ba192b"
    },
    {
      "cell_type": "code",
      "metadata": {},
      "source": [
        "#| label: correlacion\n",
        "np.corrcoef(x1, x2)[0, 1]"
      ],
      "id": "correlacion",
      "execution_count": null,
      "outputs": []
    },
    {
      "cell_type": "markdown",
      "metadata": {},
      "source": [
        "¿Qué pasa si usas $x_1$ y $x_2$ en una regresión lineal?\n"
      ],
      "id": "6148994a"
    },
    {
      "cell_type": "code",
      "metadata": {},
      "source": [
        "#| label: regresion\n",
        "X = np.column_stack((x1, x2))\n",
        "X = sm.add_constant(X)\n",
        "\n",
        "modelo = OLS(y, X).fit()\n",
        "print(modelo.summary())"
      ],
      "id": "regresion",
      "execution_count": null,
      "outputs": []
    },
    {
      "cell_type": "markdown",
      "metadata": {},
      "source": [
        "Pues aparentemente nada. Los coeficientes son los esperados y las $t$-stats son altas.\n",
        "\n",
        "## Multicolinealidad en la regresión lineal con muestras pequeñas\n",
        "\n",
        "Antes tenías una muestra de tamaño `{python} n`. Vamos a cambiar eso.\n"
      ],
      "id": "2ebefbed"
    },
    {
      "cell_type": "code",
      "metadata": {},
      "source": [
        "#| label: datos-pequenos\n",
        "n = 100\n",
        "x1 = np.random.normal(50, 10, n)\n",
        "x2 = 0.5 * x1 + np.random.normal(0, 5, n)\n",
        "y = 2 + 3 * x1 + 4 * x2 + np.random.normal(0, 10, n)"
      ],
      "id": "datos-pequenos",
      "execution_count": null,
      "outputs": []
    },
    {
      "cell_type": "markdown",
      "metadata": {},
      "source": [
        "Con estos datos, aparentemente los mismos pero con menor muestra, ajusto la regresión. \n"
      ],
      "id": "8f2f9867"
    },
    {
      "cell_type": "code",
      "metadata": {},
      "source": [
        "#| label: regresion-pequena\n",
        "X = np.column_stack((x1, x2))\n",
        "X = sm.add_constant(X)\n",
        "\n",
        "modelo = OLS(y, X).fit()\n",
        "print(modelo.summary())"
      ],
      "id": "regresion-pequena",
      "execution_count": null,
      "outputs": []
    },
    {
      "cell_type": "markdown",
      "metadata": {},
      "source": [
        "Los coeficientes de $x_1$ y $x_2$ no son horribles, pero el intercept ya no tiene sentido. \n",
        "\n",
        "## Incertidumbre\n",
        "\n",
        "Los resultados de la regresión pueden mejorar, no solo por tener más datos, sino simplemente por una muestra que encaje mejor. \n",
        "\n",
        "Así que vamos a generar muchas muestras, de distintos tamaños, y vemos en cada una cómo cambian los coeficientes.\n"
      ],
      "id": "b1b4728a"
    },
    {
      "cell_type": "code",
      "metadata": {},
      "source": [
        "#| label: simulacion\n",
        "\n",
        "n_sizes = np.array([100, 1000, 2500, 5000, 7500, 10000])\n",
        "\n",
        "runs_per_size = 50\n",
        "\n",
        "coeficientes = np.zeros((len(n_sizes), runs_per_size, 3))\n",
        "\n",
        "for i, n in enumerate(n_sizes):\n",
        "    for j in range(runs_per_size):\n",
        "        x1 = np.random.normal(50, 10, n)\n",
        "        x2 = 0.5 * x1 + np.random.normal(0, 5, n)\n",
        "        y = 2 + 3 * x1 + 4 * x2 + np.random.normal(0, 10, n)\n",
        "        \n",
        "        X = np.column_stack((x1, x2))\n",
        "        X = sm.add_constant(X)\n",
        "\n",
        "        modelo = OLS(y, X).fit()\n",
        "        coeficientes[i, j] = modelo.params"
      ],
      "id": "simulacion",
      "execution_count": null,
      "outputs": []
    },
    {
      "cell_type": "markdown",
      "metadata": {},
      "source": [
        "Visualizo los coeficientes como puntos, incluido el intercept. En el eje $x$ tienes el tamaño de la muestra y en el eje $y$ el valor del coeficiente. La línea horizontal es el valor real del coeficiente.\n",
        "\n",
        "Fíjate cómo, cuanto menor es el tamaño muestral, menor es la precisión de la estimación. No creas que por que alguna vez salga bien con una muestra, tu estimación va a ser buena. La incertidumbre es alta, te guste o no.\n"
      ],
      "id": "fa1c6c72"
    },
    {
      "cell_type": "code",
      "metadata": {},
      "source": [
        "#| label: grafico\n",
        "\n",
        "import matplotlib.pyplot as plt\n",
        "\n",
        "fig, ax = plt.subplots(1, 3, figsize=(18, 4))\n",
        "\n",
        "for i in range(runs_per_size):\n",
        "    ax[0].scatter(n_sizes, coeficientes[:, i, 0], color='blue', alpha=0.1)\n",
        "    ax[1].scatter(n_sizes, coeficientes[:, i, 1], color='blue', alpha=0.1)\n",
        "    ax[2].scatter(n_sizes, coeficientes[:, i, 2], color='blue', alpha=0.1)\n",
        "\n",
        "ax[0].axhline(2, color='red', linestyle='--')\n",
        "ax[1].axhline(3, color='red', linestyle='--')\n",
        "ax[2].axhline(4, color='red', linestyle='--')\n",
        "\n",
        "\n",
        "ax[0].set_title('Intercept')\n",
        "ax[1].set_title('Coeficiente de x1')\n",
        "ax[2].set_title('Coeficiente de x2')\n",
        "\n",
        "plt.show()"
      ],
      "id": "grafico",
      "execution_count": null,
      "outputs": []
    }
  ],
  "metadata": {
    "kernelspec": {
      "name": "python3",
      "language": "python",
      "display_name": "Python 3 (ipykernel)",
      "path": "C:\\Users\\Leonardo.Hansa\\AppData\\Roaming\\Python\\share\\jupyter\\kernels\\python3"
    }
  },
  "nbformat": 4,
  "nbformat_minor": 5
}