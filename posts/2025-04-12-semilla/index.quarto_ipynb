{
  "cells": [
    {
      "cell_type": "markdown",
      "metadata": {},
      "source": [
        "---\n",
        "title: \"Cuánto te afecta la semilla al resultado final\"\n",
        "description: \"La semilla afecta a la aleatoriedad del ajuste del modelo. Esto puede generar una incertidumbre que no siempre se tiene en cuenta.\"\n",
        "description-meta: \"La semilla afecta a la aleatoriedad del ajuste del modelo. Esto puede generar una incertidumbre que no siempre se tiene en cuenta.\"\n",
        "author: \"Leonardo Hansa\"\n",
        "date: \"2025-04-12\"\n",
        "categories: [exploraciones]\n",
        "execute: \n",
        "  echo: true\n",
        "  message: false\n",
        "  warning: false\n",
        "freeze: true\n",
        "---\n",
        "\n",
        "\n",
        "## Comentarios iniciales\n",
        "\n",
        "En [Cuartil](https://open.spotify.com/episode/0Bl4iZq1o5s2Kd5WESm2Cu?si=LgiczmLkTfOpc0vKREYI9w) mencionamos que cambiar la semilla puede cambiar la métrica de ajuste de tu modelo.\n",
        "\n",
        "Voy a ajustar un RandomForest en algún conjunto de datos varias veces. \n",
        "\n",
        "El objetivo es ver que, cada vez que lo ejecuto, la predicción cambia, por lo que hay cierta incertidumbre cada vez que ajustas un modelo de estos. \n"
      ],
      "id": "16100de6"
    },
    {
      "cell_type": "code",
      "metadata": {},
      "source": [
        "#| label: libs\n",
        "from sklearn.datasets import fetch_california_housing\n",
        "from sklearn.ensemble import RandomForestRegressor\n",
        "from sklearn.model_selection import train_test_split\n",
        "from sklearn.metrics import mean_squared_error\n",
        "import numpy as np\n",
        "import pandas as pd\n",
        "import matplotlib.pyplot as plt"
      ],
      "id": "libs",
      "execution_count": null,
      "outputs": []
    },
    {
      "cell_type": "markdown",
      "metadata": {},
      "source": [
        "## Preparación de datos\n",
        "\n",
        "Los datos no me importan especialmente. Cargo unos de **sklearn** que me ha sugerido ChatGPT. Los separo en train y test. Esta separación la dejo fija: voy a estudiar cómo afecta la aleatoriedad del modelo, no la de los datos.\n"
      ],
      "id": "780ed03d"
    },
    {
      "cell_type": "code",
      "metadata": {},
      "source": [
        "#| label: data\n",
        "data = fetch_california_housing(as_frame=True)\n",
        "X = data.data\n",
        "y = data.target\n",
        "\n",
        "X_train, X_test, y_train, y_test = train_test_split(X, y, test_size=0.2, random_state=42)"
      ],
      "id": "data",
      "execution_count": null,
      "outputs": []
    },
    {
      "cell_type": "markdown",
      "metadata": {},
      "source": [
        "## Ajuste de los modelos\n"
      ],
      "id": "b8c54aeb"
    },
    {
      "cell_type": "code",
      "metadata": {},
      "source": [
        "#| label: loop-model\n",
        "num_trials = 100\n",
        "l_mse = []\n",
        "df_preds = pd.DataFrame()\n",
        "\n",
        "for i in range(num_trials):\n",
        "  print(f'Iteración {i+1}/{num_trials}')\n",
        "  random_state = np.random.randint(0, 10000)\n",
        "\n",
        "  model = RandomForestRegressor(\n",
        "    random_state=random_state, \n",
        "    n_jobs=-1\n",
        "  )\n",
        "\n",
        "  model.fit(X_train, y_train)\n",
        "\n",
        "  y_pred = model.predict(X_test)\n",
        "  l_mse.append(mean_squared_error(y_test, y_pred))\n",
        "\n",
        "  df_preds[f'pred_{i}'] = y_pred"
      ],
      "id": "loop-model",
      "execution_count": null,
      "outputs": []
    },
    {
      "cell_type": "markdown",
      "metadata": {},
      "source": [
        "## Visualización\n",
        "\n",
        "### Métrica de ajuste\n"
      ],
      "id": "d3d060e8"
    },
    {
      "cell_type": "code",
      "metadata": {},
      "source": [
        "plt.hist(l_mse, bins=20)"
      ],
      "id": "e1f509b3",
      "execution_count": null,
      "outputs": []
    },
    {
      "cell_type": "markdown",
      "metadata": {},
      "source": [
        "## Predicciones"
      ],
      "id": "f443ba4b"
    },
    {
      "cell_type": "code",
      "metadata": {},
      "source": [
        "import seaborn as sns\n",
        "\n",
        "df_long = df.reset_index().melt(id_vars='index', var_name='modelo', value_name='pred')\n",
        "df_long = df_long.rename(columns={'index': 'id'})\n",
        "\n",
        "subset_ids = df_long['id'].unique()[:100]\n",
        "subset = df_long[df_long['id'].isin(subset_ids)]\n",
        "\n",
        "plt.figure(figsize=(20, 6))\n",
        "sns.boxplot(data=subset, x='id', y='pred', showfliers=False)\n",
        "plt.xlabel('ID de observación (subconjunto)')\n",
        "plt.ylabel('Predicción')\n",
        "plt.title('Boxplot de predicciones por observación (100 primeras)')\n",
        "plt.xticks(rotation=90)\n",
        "plt.tight_layout()\n",
        "plt.show()"
      ],
      "id": "c1d4e71b",
      "execution_count": null,
      "outputs": []
    }
  ],
  "metadata": {
    "kernelspec": {
      "name": "python3",
      "language": "python",
      "display_name": "Python 3 (ipykernel)",
      "path": "/home/lhansa/Projects/lhansa.github.io/.venv/share/jupyter/kernels/python3"
    }
  },
  "nbformat": 4,
  "nbformat_minor": 5
}